{
  "nbformat": 4,
  "nbformat_minor": 0,
  "metadata": {
    "colab": {
      "provenance": []
    },
    "kernelspec": {
      "name": "python3",
      "display_name": "Python 3"
    },
    "language_info": {
      "name": "python"
    }
  },
  "cells": [
    {
      "cell_type": "markdown",
      "source": [
        "# Regression and its evaluation assignment"
      ],
      "metadata": {
        "id": "xXHP7pn_AYVT"
      }
    },
    {
      "cell_type": "markdown",
      "source": [
        "Q1 what is simple linear regression?\n",
        "\n",
        "ans- Simple linear regression is a method to predict the value of one variable (the dependent varable or response) baased on the value of one another variable by fitting a straight line through the data points\n",
        "\n",
        "Equation:- for straight line\n",
        "\n",
        "Y = β∘ + β1X + 𝛆\n",
        "\n",
        "Y = dependent variable\n",
        "\n",
        "X = Independent variable\n",
        "\n",
        "β𝟎 =intercept\n",
        "\n",
        "β1 = slope\n",
        "\n",
        "𝜺 =error term\n",
        "\n",
        "The goal is to find the line of best fit which manimise the total squared differences between the actual values and predicted values\n",
        "\n",
        "examples predicting someones weight (Y) based on their heighrt(X)\n",
        "\n"
      ],
      "metadata": {
        "id": "YkETAY9HAgL-"
      }
    },
    {
      "cell_type": "markdown",
      "source": [
        "Q2  what are the key assumptions of simple linear  regression?\n",
        "\n",
        "ans- 1. Linearity: the relationship between the independent variable X andY is linear that is the change  inY is propotional to change in X\n",
        "\n",
        "2. Independence of errors : the residuals are independent there should be no correlation betweem consecutive residuals\n",
        "\n",
        "3. Homoscedasticity : the variance of residuals should be constant across all levels of X\n",
        "\n",
        "4. Normality of errors:  The residuals  should be normally distributed around the regression line\n",
        "\n",
        "5.O significant outliers or high leverage points: Outliers can overly influence the slope and interscept"
      ],
      "metadata": {
        "id": "pNJsBhzWEMB8"
      }
    },
    {
      "cell_type": "markdown",
      "source": [
        "Q3 What is heteroscedasticity and why is it important to address in regression models?\n",
        "\n",
        "ans: Heteroscedasicity means that the variance of the residuals is not constant across all levels of the independent variables\n",
        "\n",
        "* with  homoscedasiticity the soread of the residuals is even the scatter around the regression line stays roughly the same for all predicted  values\n",
        "\n",
        "* with heteroscedasticity the spread changes often getting wider or narrower as the value of X changes\n",
        "\n",
        "Examples:\n",
        "\n",
        "* For people with low years of education the variance in income is small\n",
        "\n",
        "* for people with higher eduaction incomes can vary widely .This creates fan shape in residual plot"
      ],
      "metadata": {
        "id": "CvpkkAOxyUVm"
      }
    },
    {
      "cell_type": "markdown",
      "source": [
        "Q4 what is multiple linear regression ?\n",
        "\n",
        "ans:Multiple linear regression is an extension of simple linear regression but instead of using one independent of using one indepemdent variiable predictor  it uses two or more\n",
        "\n",
        "equation:Y = β₀ + β₁X₁ + β₂X₂ + ... + βₙXₙ + ε\n",
        "\n",
        "multiple linear regression lets you:\n",
        "\n",
        "* predict Y using several factors at once\n",
        "\n",
        "* understand the effect of each predictor while controlling for others\n",
        "\n",
        "* estimate how much each X uniquley contributes to Y\n",
        "\n",
        "* Real wprld problems are rarely explaind by one factor\n",
        "\n",
        "* MLR allows for better predictions\n",
        "\n",
        "* It helps understand the rekative importance of each predictor\n",
        "\n",
        "         "
      ],
      "metadata": {
        "id": "N71M4gEPzsst"
      }
    },
    {
      "cell_type": "markdown",
      "source": [
        "Q5  what is polynomial regression and how does it didffer  from linear regression?\n",
        "\n",
        "ans: polynomial regression is an extension of linear regression that models the relationship between the independent variables and the dependent variable as an nth degreee polynimial\n",
        "\n",
        " Y = β₀ + β₁X + β₂X² + ... + βₙXⁿ + ε\n",
        "\n",
        " * even though the relationship nids non linear inX polynomial regression is still  linear in the coefficients thats why it can be solved using ordinary least  squares just like linear regresion\n",
        "\n",
        " when to use polynimial regression\n",
        "\n",
        " * growth curves\n",
        "\n",
        " * price vs advertising spend\n",
        "\n",
        " * Physics or engineering problems where relationship bend"
      ],
      "metadata": {
        "id": "L1dy3VvN0Vs8"
      }
    },
    {
      "cell_type": "markdown",
      "source": [
        "Q6 Implement a python program to fit a simple linear regression mpodel to the following sample data\n",
        "x = [ 1,2,3,4,5]\n",
        "\n",
        "y = [2.1,4.3,6.1,7.9,10.2]"
      ],
      "metadata": {
        "id": "1tJMsJZW3rIg"
      }
    },
    {
      "cell_type": "code",
      "source": [
        "import numpy as np\n",
        "from sklearn.linear_model import LinearRegression\n",
        "\n",
        "x = np.array([1, 2, 3, 4, 5]).reshape((-1, 1))\n",
        "y = np.array([2.1, 4.3, 6.1, 7.9, 10.2])\n",
        "\n",
        "model = LinearRegression()\n",
        "model.fit(x, y)\n",
        "\n",
        "print(f\"Intercept: {model.intercept_}\")\n",
        "print(f\"Coefficients: {model.coef_}\")"
      ],
      "metadata": {
        "colab": {
          "base_uri": "https://localhost:8080/"
        },
        "id": "_EMn1GM04Hjn",
        "outputId": "eb689a77-59cb-4094-9b41-0faff8fbf14b"
      },
      "execution_count": 4,
      "outputs": [
        {
          "output_type": "stream",
          "name": "stdout",
          "text": [
            "Intercept: 0.17999999999999794\n",
            "Coefficients: [1.98]\n"
          ]
        }
      ]
    },
    {
      "cell_type": "markdown",
      "source": [
        "Q7fit a multiple linear regression model on this ample data\n",
        "\n",
        "* area=[1200,1500,1800,2000]\n",
        "\n",
        "* rooms=[2,3,3,4]\n",
        "\n",
        "* price = [250000,300000,320000,370000]\n",
        "\n",
        "check for multicollinearity using VIF and report the results"
      ],
      "metadata": {
        "id": "3JwVxplZ49Vm"
      }
    },
    {
      "cell_type": "code",
      "source": [
        "import pandas as pd\n",
        "from sklearn.linear_model import LinearRegression\n",
        "from statsmodels.stats.outliers_influence import variance_inflation_factor\n",
        "\n",
        "data = {'area': [1200, 1500, 1800, 2000],\n",
        "        'rooms': [2, 3, 3, 4],\n",
        "        'price': [250000, 300000, 320000, 370000]}\n",
        "\n",
        "df = pd.DataFrame(data)\n",
        "\n",
        "X = df[['area', 'rooms']]\n",
        "y = df['price']\n",
        "\n",
        "model = LinearRegression()\n",
        "model.fit(X, y)\n",
        "\n",
        "print(f\"Intercept: {model.intercept_}\")\n",
        "print(f\"Coefficients: {model.coef_}\")\n",
        "\n",
        "vif_data = pd.DataFrame()\n",
        "vif_data[\"feature\"] = X.columns\n",
        "vif_data[\"VIF\"] = [variance_inflation_factor(X.values, i) for i in range(len(X.columns))]\n",
        "\n",
        "print(\"\\nVIF:\")\n",
        "print(vif_data)"
      ],
      "metadata": {
        "colab": {
          "base_uri": "https://localhost:8080/"
        },
        "id": "-15oj6Zn49Df",
        "outputId": "7f475ea1-15c5-4c7f-c220-6196ce92acf9"
      },
      "execution_count": 5,
      "outputs": [
        {
          "output_type": "stream",
          "name": "stdout",
          "text": [
            "Intercept: 103157.89473684214\n",
            "Coefficients: [   63.15789474 34736.84210526]\n",
            "\n",
            "VIF:\n",
            "  feature         VIF\n",
            "0    area  127.796923\n",
            "1   rooms  127.796923\n"
          ]
        }
      ]
    },
    {
      "cell_type": "markdown",
      "source": [
        "Q8 implement polynomial regression on the following data\n",
        "\n",
        "* X=[1,2,3,45]\n",
        "\n",
        "y = [2.2,4.8,7.5,11.2,14.7]\n",
        "\n",
        "fit a 2nd degree polynomial and plot the resulting curve"
      ],
      "metadata": {
        "id": "u_avPKtd6MsO"
      }
    },
    {
      "cell_type": "code",
      "source": [
        "import numpy as np\n",
        "import matplotlib.pyplot as plt\n",
        "from sklearn.preprocessing import PolynomialFeatures\n",
        "from sklearn.linear_model import LinearRegression\n",
        "\n",
        "x = np.array([1, 2, 3, 4, 5]).reshape(-1, 1)\n",
        "y = np.array([2.2, 4.8, 7.5, 11.2, 14.7])\n",
        "\n",
        "poly_features = PolynomialFeatures(degree=2)\n",
        "x_poly = poly_features.fit_transform(x)\n",
        "\n",
        "model = LinearRegression()\n",
        "model.fit(x_poly, y)\n",
        "\n",
        "plt.scatter(x, y, color='blue', label='Data Points')\n",
        "plt.plot(x, model.predict(x_poly), color='red', label='Polynomial Regression Curve')\n",
        "plt.title('Polynomial Regression')\n",
        "plt.xlabel('X')\n",
        "plt.ylabel('Y')\n",
        "plt.legend()\n",
        "plt.show()"
      ],
      "metadata": {
        "colab": {
          "base_uri": "https://localhost:8080/",
          "height": 472
        },
        "id": "jmLiM_Z-622E",
        "outputId": "0e288341-0897-405d-b75d-a6408906857c"
      },
      "execution_count": 6,
      "outputs": [
        {
          "output_type": "display_data",
          "data": {
            "text/plain": [
              "<Figure size 640x480 with 1 Axes>"
            ],
            "image/png": "[encoded data removed]"
          },
          "metadata": {}
        }
      ]
    },
    {
      "cell_type": "markdown",
      "source": [
        "Q9  create a residuals plot for a regression model trained on this data\n",
        "\n",
        "x= [10,20,30,40,50]\n",
        "\n",
        "y= [15,35,40,50,65]\n",
        "\n",
        "asses heteroscedasicity by examing the spred of residuals"
      ],
      "metadata": {
        "id": "Sc3COkyA7PYF"
      }
    },
    {
      "cell_type": "code",
      "source": [
        "import numpy as np\n",
        "import matplotlib.pyplot as plt\n",
        "from sklearn.linear_model import LinearRegression\n",
        "\n",
        "x = np.array([10, 20, 30, 40, 50]).reshape(-1, 1)\n",
        "y = np.array([15, 35, 40, 50, 65])\n",
        "\n",
        "model = LinearRegression()\n",
        "model.fit(x, y)\n",
        "\n",
        "predictions = model.predict(x)\n",
        "residuals = y - predictions\n",
        "\n",
        "plt.scatter(predictions, residuals)\n",
        "plt.axhline(y=0, color='r', linestyle='--')\n",
        "plt.xlabel('Predicted Values')\n",
        "plt.ylabel('Residuals')\n",
        "plt.title('Residuals Plot')\n",
        "plt.show()"
      ],
      "metadata": {
        "colab": {
          "base_uri": "https://localhost:8080/",
          "height": 472
        },
        "id": "9QzHjJnx7qWE",
        "outputId": "ea095e47-ef47-4729-f86d-40c3023f677e"
      },
      "execution_count": 7,
      "outputs": [
        {
          "output_type": "display_data",
          "data": {
            "text/plain": [
              "<Figure size 640x480 with 1 Axes>"
            ],
            "image/png": "[encoded data removed]"
          },
          "metadata": {}
        }
      ]
    },
    {
      "cell_type": "markdown",
      "source": [
        "Q10 imagine you are data scientist working for areal estate comapny you need to predict house price using features like area, number of rooms, and loaction however you detct heteroscedasticity and multicollinearti  in your regression model expalin the steps you would take to addres these issues and ensure a robust\n",
        "\n",
        "ans:  goal : to predicct house prices using features like area , number of rooms and location\n",
        "\n",
        "**how to address heteroscedasticity**\n",
        "\n",
        "why its a problem:\n",
        "\n",
        "* heteroscedasity dosent bias coefficients but it amkes standard errors unreliable\n",
        "\n",
        "solutions:\n",
        "\n",
        "* transform the dependent variable :- Take the log of houses prices this often stabilizes variance\n",
        "\n",
        "* use robust standard errors :- instead of changing the model, adjust the calculation of standard errors to be robust to heteroscedasticity\n",
        "\n",
        "* weighted least squares:- give less weight to observations with higher variance\n",
        ":- sometimes hetersscedasticity apperas beacuse important predictors are missing\n",
        "\n",
        "**How to address multicollinearity**\n",
        "\n",
        " why its problem:\n",
        "\n",
        " *  high correlation among predictors inflates standard errors\n",
        "\n",
        " solutions:\n",
        "\n",
        " * check VIF:- drop or combine preditors with high VIf\n",
        "\n",
        " * Use dimensionality reduction:- combine corelated variables into uncorrelated components\n",
        "\n",
        " * Regularisation:- Use ridge regression to shrink coeeficients to correlated predicators or lasso regression to shrink some coefficients to zero\n",
        "\n",
        "  **model diagnostics and validation**\n",
        "\n",
        "\n",
        " * recheck residual plots to confirm variance is more stable\n",
        "\n",
        " * recalculate vif to verify multicollinearity is under control\n",
        "\n",
        " * use cross validation to check generalization\n",
        "\n",
        " * compare model performance\n",
        "\n",
        "  **final deliverable**\n",
        "\n",
        "  * communicate the impact of each preictor\n",
        "\n",
        "  * explain any trasformation used\n",
        "\n",
        "  * justify any features dropped or combined\n",
        "\n"
      ],
      "metadata": {
        "id": "gbDJDS7C8FzD"
      }
    },
    {
      "cell_type": "markdown",
      "source": [],
      "metadata": {
        "id": "IqCtqbP9895y"
      }
    }
  ]
}